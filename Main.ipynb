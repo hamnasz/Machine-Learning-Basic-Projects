{
 "cells": [
  {
   "cell_type": "markdown",
   "id": "d78168dd",
   "metadata": {},
   "source": [
    "# -------------------------------------------\n",
    "# Sleep Duration Prediction using ML Pipeline\n",
    "# -------------------------------------------"
   ]
  },
  {
   "cell_type": "markdown",
   "id": "ebb91e33",
   "metadata": {},
   "source": [
    "# Step 1: Data Preprocessing Pipeline"
   ]
  },
  {
   "cell_type": "markdown",
   "id": "eca7f523",
   "metadata": {},
   "source": [
    "### Importing Libraries"
   ]
  },
  {
   "cell_type": "code",
   "execution_count": null,
   "id": "4fc56c3c",
   "metadata": {},
   "outputs": [],
   "source": [
    "import pandas as pd"
   ]
  },
  {
   "cell_type": "code",
   "execution_count": null,
   "id": "09c2518f",
   "metadata": {},
   "outputs": [],
   "source": [
    "import numpy as np"
   ]
  },
  {
   "cell_type": "code",
   "execution_count": null,
   "id": "4656ed49",
   "metadata": {},
   "outputs": [],
   "source": [
    "from sklearn.model_selection import train_test_split, GridSearchCV"
   ]
  },
  {
   "cell_type": "code",
   "execution_count": null,
   "id": "6a323cef",
   "metadata": {},
   "outputs": [],
   "source": [
    "from sklearn.impute import SimpleImputer"
   ]
  },
  {
   "cell_type": "code",
   "execution_count": null,
   "id": "063ced5c",
   "metadata": {},
   "outputs": [],
   "source": [
    "from sklearn.preprocessing import StandardScaler, OneHotEncoder, PolynomialFeatures"
   ]
  },
  {
   "cell_type": "code",
   "execution_count": null,
   "id": "a6e2b051",
   "metadata": {},
   "outputs": [],
   "source": [
    "from sklearn.compose import ColumnTransformer"
   ]
  },
  {
   "cell_type": "code",
   "execution_count": null,
   "id": "3eb3b60f",
   "metadata": {},
   "outputs": [],
   "source": [
    "from sklearn.pipeline import Pipeline"
   ]
  },
  {
   "cell_type": "code",
   "execution_count": null,
   "id": "ed8f2d20",
   "metadata": {},
   "outputs": [],
   "source": [
    "from sklearn.ensemble import RandomForestRegressor, GradientBoostingRegressor"
   ]
  },
  {
   "cell_type": "code",
   "execution_count": null,
   "id": "43bb8e96",
   "metadata": {},
   "outputs": [],
   "source": [
    "from sklearn.metrics import mean_absolute_error, r2_score"
   ]
  },
  {
   "cell_type": "code",
   "execution_count": null,
   "id": "7e2603ef",
   "metadata": {},
   "outputs": [],
   "source": [
    "from sklearn.base import BaseEstimator, TransformerMixin"
   ]
  },
  {
   "cell_type": "code",
   "execution_count": null,
   "id": "c32c8acc",
   "metadata": {},
   "outputs": [],
   "source": [
    "import joblib"
   ]
  },
  {
   "cell_type": "code",
   "execution_count": null,
   "id": "7848a63a",
   "metadata": {},
   "outputs": [],
   "source": [
    "!pip install fastapi"
   ]
  },
  {
   "cell_type": "code",
   "execution_count": null,
   "id": "4b7b85fb",
   "metadata": {},
   "outputs": [],
   "source": [
    "from fastapi import FastAPI"
   ]
  },
  {
   "cell_type": "code",
   "execution_count": null,
   "id": "bd879be8",
   "metadata": {},
   "outputs": [],
   "source": [
    "from pydantic import BaseModel"
   ]
  },
  {
   "cell_type": "markdown",
   "id": "4bf0b802",
   "metadata": {},
   "source": [
    "#### 1. Dataset Loading"
   ]
  },
  {
   "cell_type": "code",
   "execution_count": null,
   "id": "88cd269f",
   "metadata": {},
   "outputs": [],
   "source": [
    "df = pd.read_csv(\"data.csv\")"
   ]
  },
  {
   "cell_type": "code",
   "execution_count": null,
   "id": "502e2a59",
   "metadata": {},
   "outputs": [],
   "source": [
    "print(df.head())"
   ]
  },
  {
   "cell_type": "markdown",
   "id": "3aae126c",
   "metadata": {},
   "source": [
    "#### 2. Basic Cleaning"
   ]
  },
  {
   "cell_type": "code",
   "execution_count": null,
   "id": "34ae476d",
   "metadata": {},
   "outputs": [],
   "source": [
    "df = df.dropna(subset=['Sleep Duration'])  # Drop rows where target is missing"
   ]
  },
  {
   "cell_type": "markdown",
   "id": "3bce5ba0",
   "metadata": {},
   "source": [
    "#### 3. Feature Definitions"
   ]
  },
  {
   "cell_type": "code",
   "execution_count": null,
   "id": "a2a405a6",
   "metadata": {},
   "outputs": [],
   "source": [
    "target = 'Sleep Duration'\n",
    "categorical = ['Gender', 'Occupation', 'BMI Category']\n",
    "numerical = ['Age', 'Physical Activity Level', 'Stress Level', 'Heart Rate', 'Daily Steps']"
   ]
  },
  {
   "cell_type": "code",
   "execution_count": null,
   "id": "caa05ed3",
   "metadata": {},
   "outputs": [],
   "source": [
    "X = df[categorical + numerical]\n",
    "y = df[target]"
   ]
  },
  {
   "cell_type": "markdown",
   "id": "05d0f757",
   "metadata": {},
   "source": [
    "#### 4. Custom Transformer for Polynomial Features"
   ]
  },
  {
   "cell_type": "code",
   "execution_count": null,
   "id": "29ca610c",
   "metadata": {},
   "outputs": [],
   "source": [
    "class AddPolynomialFeatures(BaseEstimator, TransformerMixin):\n",
    "    def __init__(self, degree=2):\n",
    "        self.degree = degree\n",
    "        self.poly = PolynomialFeatures(degree=self.degree, include_bias=False)\n",
    "\n",
    "    def fit(self, X, y=None):\n",
    "        self.feature_names = X.columns\n",
    "        self.poly.fit(X)\n",
    "        return self\n",
    "\n",
    "    def transform(self, X):\n",
    "        poly_features = self.poly.transform(X)\n",
    "        poly_df = pd.DataFrame(poly_features, columns=self.poly.get_feature_names_out(self.feature_names), index=X.index)\n",
    "        return poly_df\n"
   ]
  },
  {
   "cell_type": "markdown",
   "id": "ccf2417e",
   "metadata": {},
   "source": [
    "#### 5. Preprocessing Pipelines"
   ]
  },
  {
   "cell_type": "code",
   "execution_count": null,
   "id": "c36cb1ca",
   "metadata": {},
   "outputs": [],
   "source": [
    "numeric_pipeline = Pipeline([\n",
    "    ('imputer', SimpleImputer(strategy='median')),\n",
    "    ('scaler', StandardScaler()),\n",
    "    ('poly', AddPolynomialFeatures(degree=2))\n",
    "])\n",
    "\n",
    "categorical_pipeline = Pipeline([\n",
    "    ('encoder', OneHotEncoder(drop='first', handle_unknown='ignore'))\n",
    "])\n",
    "\n",
    "preprocessor = ColumnTransformer([\n",
    "    ('num', numeric_pipeline, numerical),\n",
    "    ('cat', categorical_pipeline, categorical)\n",
    "])"
   ]
  },
  {
   "cell_type": "markdown",
   "id": "052c7273",
   "metadata": {},
   "source": [
    "#### 6. Full Pipelines for Each Model"
   ]
  },
  {
   "cell_type": "code",
   "execution_count": null,
   "id": "c29005c0",
   "metadata": {},
   "outputs": [],
   "source": [
    "rf_pipeline = Pipeline([\n",
    "    ('preprocessor', preprocessor),\n",
    "    ('model', RandomForestRegressor(random_state=42))\n",
    "])\n",
    "\n",
    "gb_pipeline = Pipeline([\n",
    "    ('preprocessor', preprocessor),\n",
    "    ('model', GradientBoostingRegressor(random_state=42))\n",
    "])\n"
   ]
  },
  {
   "cell_type": "markdown",
   "id": "07339703",
   "metadata": {},
   "source": [
    "#### 7. Train-Test Split"
   ]
  },
  {
   "cell_type": "code",
   "execution_count": null,
   "id": "78cea4b1",
   "metadata": {},
   "outputs": [],
   "source": [
    "X_train, X_test, y_train, y_test = train_test_split(X, y, test_size=0.2, random_state=42)"
   ]
  },
  {
   "cell_type": "markdown",
   "id": "06694ae9",
   "metadata": {},
   "source": [
    "#### 8. Hyperparameter Tuning"
   ]
  },
  {
   "cell_type": "code",
   "execution_count": null,
   "id": "67d85ff4",
   "metadata": {},
   "outputs": [],
   "source": [
    "param_grid = {\n",
    "    'model__n_estimators': [100, 200],\n",
    "    'model__max_depth': [3, 5, 7]\n",
    "}\n",
    "\n",
    "grid_rf = GridSearchCV(rf_pipeline, param_grid, cv=5, scoring='neg_mean_absolute_error', n_jobs=-1)\n",
    "grid_rf.fit(X_train, y_train)\n",
    "\n",
    "grid_gb = GridSearchCV(gb_pipeline, param_grid, cv=5, scoring='neg_mean_absolute_error', n_jobs=-1)\n",
    "grid_gb.fit(X_train, y_train)"
   ]
  },
  {
   "cell_type": "markdown",
   "id": "522fa9ea",
   "metadata": {},
   "source": [
    "#### 9. Evaluation"
   ]
  },
  {
   "cell_type": "code",
   "execution_count": null,
   "id": "ab9fe3c0",
   "metadata": {},
   "outputs": [],
   "source": [
    "def evaluate_model(model, X_test, y_test, model_name):\n",
    "    y_pred = model.predict(X_test)\n",
    "    mae = mean_absolute_error(y_test, y_pred)\n",
    "    r2 = r2_score(y_test, y_pred)\n",
    "    print(f\"🔹 {model_name} Evaluation:\")\n",
    "    print(f\"    MAE: {mae:.3f}\")\n",
    "    print(f\"    R² Score: {r2:.3f}\\n\")\n",
    "    return mae, r2\n",
    "\n",
    "print(\"\\n📊 Model Evaluation Results:\")\n",
    "mae_rf, r2_rf = evaluate_model(grid_rf, X_test, y_test, \"Random Forest\")\n",
    "mae_gb, r2_gb = evaluate_model(grid_gb, X_test, y_test, \"Gradient Boosting\")"
   ]
  },
  {
   "cell_type": "markdown",
   "id": "6697f80b",
   "metadata": {},
   "source": [
    "#### 10. Best Model Selection (based on MAE)"
   ]
  },
  {
   "cell_type": "code",
   "execution_count": null,
   "id": "2b5c16bb",
   "metadata": {},
   "outputs": [],
   "source": [
    "best_model = grid_rf if mae_rf <= mae_gb else grid_gb\n",
    "print(f\"✅ Best model selected: {'Random Forest' if best_model == grid_rf else 'Gradient Boosting'}\")"
   ]
  },
  {
   "cell_type": "markdown",
   "id": "e3acbb78",
   "metadata": {},
   "source": [
    "#### 11. Feature Importance (for Random Forest)"
   ]
  },
  {
   "cell_type": "code",
   "execution_count": null,
   "id": "0eceaf94",
   "metadata": {},
   "outputs": [],
   "source": [
    "if hasattr(best_model.best_estimator_.named_steps['model'], 'feature_importances_'):\n",
    "    feature_names = best_model.best_estimator_.named_steps['preprocessor'].transformers_[0][1] \\\n",
    "        .named_steps['poly'].poly.get_feature_names_out(numerical)\n",
    "    importances = best_model.best_estimator_.named_steps['model'].feature_importances_\n",
    "    important_features = pd.Series(importances, index=feature_names).sort_values(ascending=False)\n",
    "    print(\"\\n🔍 Top 10 Important Features:\\n\", important_features.head(10))"
   ]
  },
  {
   "cell_type": "markdown",
   "id": "61bd6b95",
   "metadata": {},
   "source": [
    "#### 12. Save the Best Model"
   ]
  },
  {
   "cell_type": "code",
   "execution_count": null,
   "id": "86413d6b",
   "metadata": {},
   "outputs": [],
   "source": [
    "joblib.dump(best_model, \"sleep_duration_model.joblib\")\n",
    "print(\"\\n💾 Model saved successfully as 'sleep_duration_model.joblib'\")"
   ]
  },
  {
   "cell_type": "markdown",
   "id": "166ab04b",
   "metadata": {},
   "source": [
    "#### 13. (Optional) Deployment API using FastAPI"
   ]
  },
  {
   "cell_type": "code",
   "execution_count": null,
   "id": "cd693952",
   "metadata": {},
   "outputs": [],
   "source": [
    "app = FastAPI()\n",
    "\n",
    "class InputData(BaseModel):\n",
    "    Gender: str\n",
    "    Occupation: str\n",
    "    BMI_Category: str\n",
    "    Age: float\n",
    "    Physical_Activity_Level: float\n",
    "    Stress_Level: float\n",
    "    Heart_Rate: float\n",
    "    Daily_Steps: float\n",
    "\n",
    "@app.post(\"/predict\")\n",
    "def predict_sleep(data: InputData):\n",
    "    input_dict = {\n",
    "        \"Gender\": [data.Gender],\n",
    "        \"Occupation\": [data.Occupation],\n",
    "        \"BMI Category\": [data.BMI_Category],\n",
    "        \"Age\": [data.Age],\n",
    "        \"Physical Activity Level\": [data.Physical_Activity_Level],\n",
    "        \"Stress Level\": [data.Stress_Level],\n",
    "        \"Heart Rate\": [data.Heart_Rate],\n",
    "        \"Daily Steps\": [data.Daily_Steps],\n",
    "    }\n",
    "    input_df = pd.DataFrame.from_dict(input_dict)\n",
    "    model = joblib.load(\"sleep_duration_model.joblib\")\n",
    "    prediction = model.predict(input_df)[0]\n",
    "    return {\"predicted_sleep_duration\": prediction}"
   ]
  }
 ],
 "metadata": {
  "kernelspec": {
   "display_name": "Python 3",
   "language": "python",
   "name": "python3"
  },
  "language_info": {
   "codemirror_mode": {
    "name": "ipython",
    "version": 3
   },
   "file_extension": ".py",
   "mimetype": "text/x-python",
   "name": "python",
   "nbconvert_exporter": "python",
   "pygments_lexer": "ipython3",
   "version": "3.12.1"
  }
 },
 "nbformat": 4,
 "nbformat_minor": 5
}
